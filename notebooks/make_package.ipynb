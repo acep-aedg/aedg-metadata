{
 "cells": [
  {
   "cell_type": "code",
   "execution_count": 1,
   "id": "5d3408d4-b042-4519-994f-e689683507aa",
   "metadata": {},
   "outputs": [],
   "source": [
    "from frictionless import describe, validate, Package, Resource\n",
    "import pprint\n",
    "\n",
    "pp = pprint.PrettyPrinter(depth=4)\n",
    "\n",
    "csvname = \"./capacity.csv\""
   ]
  },
  {
   "cell_type": "code",
   "execution_count": 2,
   "id": "71b2ad7a-389f-4d3e-8475-6ba67e1dddbd",
   "metadata": {},
   "outputs": [
    {
     "name": "stdout",
     "output_type": "stream",
     "text": [
      "{'name': 'capacity',\n",
      " 'type': 'table',\n",
      " 'path': './capacity.csv',\n",
      " 'scheme': 'file',\n",
      " 'format': 'csv',\n",
      " 'mediatype': 'text/csv',\n",
      " 'encoding': 'utf-8',\n",
      " 'schema': {'fields': [{'name': 'grid_id', 'type': 'integer'},\n",
      "                       {'name': 'capacity_mw', 'type': 'number'},\n",
      "                       {'name': 'fuel_type', 'type': 'string'},\n",
      "                       {'name': 'year', 'type': 'integer'}]}}\n"
     ]
    }
   ],
   "source": [
    "capacity_schema = describe(csvname, type='resource')\n",
    "pp.pprint(capacity_schema)"
   ]
  },
  {
   "cell_type": "code",
   "execution_count": 3,
   "id": "44c0b30f-6b58-49f7-8dfc-0e48472f508a",
   "metadata": {},
   "outputs": [
    {
     "name": "stdout",
     "output_type": "stream",
     "text": [
      "{'name': 'capacity',\n",
      " 'type': 'table',\n",
      " 'description': 'Annual capacity for a grid in Alaska',\n",
      " 'path': './capacity.csv',\n",
      " 'scheme': 'file',\n",
      " 'format': 'csv',\n",
      " 'mediatype': 'text/csv',\n",
      " 'encoding': 'utf-8',\n",
      " 'schema': {'fields': [{'name': 'grid_id',\n",
      "                        'type': 'integer',\n",
      "                        'title': 'Grid ID',\n",
      "                        'description': 'A unique identifier for the grid for '\n",
      "                                       'which capacity is calculated'},\n",
      "                       {'name': 'capacity_mw',\n",
      "                        'type': 'number',\n",
      "                        'title': 'Generation Capacity',\n",
      "                        'description': 'The maximum amount of electricity that '\n",
      "                                       'can be generated at any given time in '\n",
      "                                       'megawatts (MW)'},\n",
      "                       {'name': 'fuel_type',\n",
      "                        'type': 'string',\n",
      "                        'title': 'Fuel Type',\n",
      "                        'description': 'Type of fuel used for generation'},\n",
      "                       {'name': 'year',\n",
      "                        'type': 'year',\n",
      "                        'title': 'Year',\n",
      "                        'description': 'Year for which capacity is calculated',\n",
      "                        'constraints': {'minimum': 2010, 'maximum': 2025}}]}}\n"
     ]
    }
   ],
   "source": [
    "capacity_schema.description = \"Annual capacity for a grid in Alaska\"\n",
    "\n",
    "capacity_schema.schema.get_field(\"grid_id\").title = \"Grid ID\"\n",
    "capacity_schema.schema.get_field(\"grid_id\").description = \"A unique identifier for the grid for which capacity is calculated\"\n",
    "\n",
    "capacity_schema.schema.get_field(\"capacity_mw\").title = \"Generation Capacity\"\n",
    "capacity_schema.schema.get_field(\"capacity_mw\").description = \"The maximum amount of electricity that can be generated at any given time in megawatts (MW)\"\n",
    "# Note: I can try and add a new field but it doesn't stick\n",
    "capacity_schema.schema.get_field(\"capacity_mw\").units = \"Megawatts\"\n",
    "\n",
    "capacity_schema.schema.get_field(\"fuel_type\").title = \"Fuel Type\"\n",
    "capacity_schema.schema.get_field(\"fuel_type\").description = \"Type of fuel used for generation\"\n",
    "\n",
    "capacity_schema.schema.get_field(\"year\").title = \"Year\"\n",
    "capacity_schema.schema.get_field(\"year\").description = \"Year for which capacity is calculated\"\n",
    "capacity_schema.schema.set_field_type(\"year\", \"year\")\n",
    "capacity_schema.schema.get_field(\"year\").constraints[\"minimum\"] = 2010\n",
    "capacity_schema.schema.get_field(\"year\").constraints[\"maximum\"] = 2025\n",
    "\n",
    "pp.pprint(capacity_schema)\n"
   ]
  },
  {
   "cell_type": "code",
   "execution_count": 4,
   "id": "649db29c-ed7c-4273-8399-53c026a99b96",
   "metadata": {},
   "outputs": [
    {
     "data": {
      "text/plain": [
       "'\\nf_keys = []\\nf_keys.append({\\n  \"fields\": [\"grid_id\"],\\n  \"reference\": {\\n      \"resource\": \"grids\",        \\n      \"fields\": [\"grid_id\"]\\n  }            \\n})\\n\\ncapacity_schema.schema.foreign_keys = f_keys\\n\\npp.pprint(capacity_schema)\\n'"
      ]
     },
     "execution_count": 4,
     "metadata": {},
     "output_type": "execute_result"
    }
   ],
   "source": [
    "# Now that capacity is a resource, adding a foreign key to another resouce that doesn't exist invalidates the package\n",
    "\n",
    "\"\"\"\n",
    "f_keys = []\n",
    "f_keys.append({\n",
    "  \"fields\": [\"grid_id\"],\n",
    "  \"reference\": {\n",
    "      \"resource\": \"grids\",        \n",
    "      \"fields\": [\"grid_id\"]\n",
    "  }            \n",
    "})\n",
    "\n",
    "capacity_schema.schema.foreign_keys = f_keys\n",
    "\n",
    "pp.pprint(capacity_schema)\n",
    "\"\"\""
   ]
  },
  {
   "cell_type": "code",
   "execution_count": 5,
   "id": "450418a6-19de-4617-83a3-82def29c44c9",
   "metadata": {},
   "outputs": [
    {
     "data": {
      "text/plain": [
       "{'valid': True,\n",
       " 'stats': {'tasks': 1, 'errors': 0, 'warnings': 0, 'seconds': 0.004},\n",
       " 'warnings': [],\n",
       " 'errors': [],\n",
       " 'tasks': [{'name': 'capacity',\n",
       "            'type': 'table',\n",
       "            'valid': True,\n",
       "            'place': './capacity.csv',\n",
       "            'labels': ['grid_id', 'capacity_mw', 'fuel_type', 'year'],\n",
       "            'stats': {'errors': 0,\n",
       "                      'warnings': 0,\n",
       "                      'seconds': 0.004,\n",
       "                      'md5': 'cd51cd1ad519075f702c958ff5bad12d',\n",
       "                      'sha256': '1f151eca80760575509dfb006652d365c9a83c18276a3be5e525cb8768edba3c',\n",
       "                      'bytes': 7561,\n",
       "                      'fields': 4,\n",
       "                      'rows': 492},\n",
       "            'warnings': [],\n",
       "            'errors': []}]}"
      ]
     },
     "execution_count": 5,
     "metadata": {},
     "output_type": "execute_result"
    }
   ],
   "source": [
    "\"\"\"report = validate('table.csv', schema='schema.json')\n",
    "print(report)\"\"\"\n",
    "\n",
    "capacity_schema.validate()"
   ]
  },
  {
   "cell_type": "code",
   "execution_count": 6,
   "id": "a685eafd-5c9d-474c-adb0-19efcc92ceff",
   "metadata": {},
   "outputs": [
    {
     "name": "stdout",
     "output_type": "stream",
     "text": [
      "{'name': 'test_datapackage',\n",
      " 'title': 'Test Package for Capacity',\n",
      " 'description': ' Lorem ipsum dolor sit amet, consectetur adipiscing elit. Sed '\n",
      "                'fermentum eros maximus, ullamcorper neque quis, commodo '\n",
      "                'lorem. Maecenas non dui vel mauris aliquam tincidunt ac eget '\n",
      "                'magna. Nullam lacinia sem ac est laoreet, ac ultricies dui '\n",
      "                'bibendum. Aenean feugiat, eros nec consequat egestas, nibh '\n",
      "                'leo posuere sem, non tristique nunc magna sit amet leo. Cras '\n",
      "                'ultrices lorem fringilla urna commodo euismod. Ut pulvinar '\n",
      "                'dictum tortor placerat convallis. Praesent eget ante a nisi '\n",
      "                'ornare vestibulum mattis id velit. Cras dictum sapien enim, '\n",
      "                'id placerat orci fringilla eget. Etiam in fermentum nisi. '\n",
      "                'Maecenas ac tortor nunc.\\n'\n",
      "                '\\n'\n",
      "                'Donec ex ligula, ultricies sed laoreet vel, posuere ut '\n",
      "                'turpis. Nulla in leo ac leo auctor dignissim. Vestibulum eu '\n",
      "                'enim at felis lacinia hendrerit. Suspendisse potenti. Nullam '\n",
      "                'vel leo vestibulum nisl vehicula aliquam sit amet id ligula. '\n",
      "                'Mauris nec mauris libero. Interdum et malesuada fames ac ante '\n",
      "                'ipsum primis in faucibus. Sed mauris mauris, varius egestas '\n",
      "                'sapien volutpat, rutrum varius ligula.\\n',\n",
      " 'resources': [{'name': 'capacity',\n",
      "                'type': 'table',\n",
      "                'description': 'Annual capacity for a grid in Alaska',\n",
      "                'path': './capacity.csv',\n",
      "                'scheme': 'file',\n",
      "                'format': 'csv',\n",
      "                'mediatype': 'text/csv',\n",
      "                'encoding': 'utf-8',\n",
      "                'schema': {'fields': [{'name': 'grid_id',\n",
      "                                       'type': 'integer',\n",
      "                                       'title': 'Grid ID',\n",
      "                                       'description': 'A unique identifier for '\n",
      "                                                      'the grid for which '\n",
      "                                                      'capacity is calculated'},\n",
      "                                      {'name': 'capacity_mw',\n",
      "                                       'type': 'number',\n",
      "                                       'title': 'Generation Capacity',\n",
      "                                       'description': 'The maximum amount of '\n",
      "                                                      'electricity that can be '\n",
      "                                                      'generated at any given '\n",
      "                                                      'time in megawatts (MW)'},\n",
      "                                      {'name': 'fuel_type',\n",
      "                                       'type': 'string',\n",
      "                                       'title': 'Fuel Type',\n",
      "                                       'description': 'Type of fuel used for '\n",
      "                                                      'generation'},\n",
      "                                      {'name': 'year',\n",
      "                                       'type': 'year',\n",
      "                                       'title': 'Year',\n",
      "                                       'description': 'Year for which capacity '\n",
      "                                                      'is calculated',\n",
      "                                       'constraints': {'minimum': 2010,\n",
      "                                                       'maximum': 2025}}]}}]}\n"
     ]
    }
   ],
   "source": [
    "long_description = \"\"\" Lorem ipsum dolor sit amet, consectetur adipiscing elit. Sed fermentum eros maximus, ullamcorper neque quis, commodo lorem. Maecenas non dui vel mauris aliquam tincidunt ac eget magna. Nullam lacinia sem ac est laoreet, ac ultricies dui bibendum. Aenean feugiat, eros nec consequat egestas, nibh leo posuere sem, non tristique nunc magna sit amet leo. Cras ultrices lorem fringilla urna commodo euismod. Ut pulvinar dictum tortor placerat convallis. Praesent eget ante a nisi ornare vestibulum mattis id velit. Cras dictum sapien enim, id placerat orci fringilla eget. Etiam in fermentum nisi. Maecenas ac tortor nunc.\n",
    "\n",
    "Donec ex ligula, ultricies sed laoreet vel, posuere ut turpis. Nulla in leo ac leo auctor dignissim. Vestibulum eu enim at felis lacinia hendrerit. Suspendisse potenti. Nullam vel leo vestibulum nisl vehicula aliquam sit amet id ligula. Mauris nec mauris libero. Interdum et malesuada fames ac ante ipsum primis in faucibus. Sed mauris mauris, varius egestas sapien volutpat, rutrum varius ligula.\n",
    "\"\"\"\n",
    "\n",
    "package = Package(\n",
    "    name='test_datapackage',\n",
    "    title='Test Package for Capacity',\n",
    "    description=long_description,\n",
    "    resources=[capacity_schema]\n",
    ")\n",
    "pp.pprint(package)"
   ]
  },
  {
   "cell_type": "code",
   "execution_count": null,
   "id": "5358b621-2d62-4d01-b358-890995491a7d",
   "metadata": {
    "collapsed": true,
    "jupyter": {
     "outputs_hidden": true
    }
   },
   "outputs": [],
   "source": []
  },
  {
   "cell_type": "code",
   "execution_count": 7,
   "id": "7d7aa657-0294-4235-aa0b-2f7f7f51b2cd",
   "metadata": {},
   "outputs": [
    {
     "data": {
      "text/plain": [
       "{'valid': True,\n",
       " 'stats': {'tasks': 1, 'errors': 0, 'warnings': 0, 'seconds': 0.005},\n",
       " 'warnings': [],\n",
       " 'errors': [],\n",
       " 'tasks': [{'name': 'capacity',\n",
       "            'type': 'table',\n",
       "            'valid': True,\n",
       "            'place': './capacity.csv',\n",
       "            'labels': ['grid_id', 'capacity_mw', 'fuel_type', 'year'],\n",
       "            'stats': {'errors': 0,\n",
       "                      'warnings': 0,\n",
       "                      'seconds': 0.004,\n",
       "                      'md5': 'cd51cd1ad519075f702c958ff5bad12d',\n",
       "                      'sha256': '1f151eca80760575509dfb006652d365c9a83c18276a3be5e525cb8768edba3c',\n",
       "                      'bytes': 7561,\n",
       "                      'fields': 4,\n",
       "                      'rows': 492},\n",
       "            'warnings': [],\n",
       "            'errors': []}]}"
      ]
     },
     "execution_count": 7,
     "metadata": {},
     "output_type": "execute_result"
    }
   ],
   "source": [
    "package.validate()"
   ]
  },
  {
   "cell_type": "code",
   "execution_count": 8,
   "id": "debb65a9-f735-452b-9b46-b15ca82a9879",
   "metadata": {},
   "outputs": [
    {
     "data": {
      "text/plain": [
       "'{\\n  \"name\": \"test_datapackage\",\\n  \"title\": \"Test Package for Capacity\",\\n  \"description\": \" Lorem ipsum dolor sit amet, consectetur adipiscing elit. Sed fermentum eros maximus, ullamcorper neque quis, commodo lorem. Maecenas non dui vel mauris aliquam tincidunt ac eget magna. Nullam lacinia sem ac est laoreet, ac ultricies dui bibendum. Aenean feugiat, eros nec consequat egestas, nibh leo posuere sem, non tristique nunc magna sit amet leo. Cras ultrices lorem fringilla urna commodo euismod. Ut pulvinar dictum tortor placerat convallis. Praesent eget ante a nisi ornare vestibulum mattis id velit. Cras dictum sapien enim, id placerat orci fringilla eget. Etiam in fermentum nisi. Maecenas ac tortor nunc.\\\\n\\\\nDonec ex ligula, ultricies sed laoreet vel, posuere ut turpis. Nulla in leo ac leo auctor dignissim. Vestibulum eu enim at felis lacinia hendrerit. Suspendisse potenti. Nullam vel leo vestibulum nisl vehicula aliquam sit amet id ligula. Mauris nec mauris libero. Interdum et malesuada fames ac ante ipsum primis in faucibus. Sed mauris mauris, varius egestas sapien volutpat, rutrum varius ligula.\\\\n\",\\n  \"resources\": [\\n    {\\n      \"name\": \"capacity\",\\n      \"type\": \"table\",\\n      \"description\": \"Annual capacity for a grid in Alaska\",\\n      \"path\": \"./capacity.csv\",\\n      \"scheme\": \"file\",\\n      \"format\": \"csv\",\\n      \"mediatype\": \"text/csv\",\\n      \"encoding\": \"utf-8\",\\n      \"schema\": {\\n        \"fields\": [\\n          {\\n            \"name\": \"grid_id\",\\n            \"type\": \"integer\",\\n            \"title\": \"Grid ID\",\\n            \"description\": \"A unique identifier for the grid for which capacity is calculated\"\\n          },\\n          {\\n            \"name\": \"capacity_mw\",\\n            \"type\": \"number\",\\n            \"title\": \"Generation Capacity\",\\n            \"description\": \"The maximum amount of electricity that can be generated at any given time in megawatts (MW)\"\\n          },\\n          {\\n            \"name\": \"fuel_type\",\\n            \"type\": \"string\",\\n            \"title\": \"Fuel Type\",\\n            \"description\": \"Type of fuel used for generation\"\\n          },\\n          {\\n            \"name\": \"year\",\\n            \"type\": \"year\",\\n            \"title\": \"Year\",\\n            \"description\": \"Year for which capacity is calculated\",\\n            \"constraints\": {\\n              \"minimum\": 2010,\\n              \"maximum\": 2025\\n            }\\n          }\\n        ]\\n      }\\n    }\\n  ]\\n}'"
      ]
     },
     "execution_count": 8,
     "metadata": {},
     "output_type": "execute_result"
    }
   ],
   "source": [
    "package.to_json('test_datapackage.json')"
   ]
  }
 ],
 "metadata": {
  "kernelspec": {
   "display_name": "Python 3 (ipykernel)",
   "language": "python",
   "name": "python3"
  },
  "language_info": {
   "codemirror_mode": {
    "name": "ipython",
    "version": 3
   },
   "file_extension": ".py",
   "mimetype": "text/x-python",
   "name": "python",
   "nbconvert_exporter": "python",
   "pygments_lexer": "ipython3",
   "version": "3.12.1"
  }
 },
 "nbformat": 4,
 "nbformat_minor": 5
}
