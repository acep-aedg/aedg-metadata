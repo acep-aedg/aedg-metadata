{
 "cells": [
  {
   "cell_type": "code",
   "execution_count": 11,
   "id": "831e9de5-ee21-4f7f-8eaa-2cf3f020d472",
   "metadata": {},
   "outputs": [
    {
     "name": "stdout",
     "output_type": "stream",
     "text": [
      "{'@context': '', 'name': 'foo-bar-baz', 'title': 'foo bar baz', 'description': 'Foo Bar Baz', 'id': '', 'resources': [{'@id': '', 'name': '', 'topics': [''], 'title': '', 'path': '', 'description': '', 'languages': [''], 'subject': [{'name': '', '@id': ''}], 'keywords': [''], 'publicationDate': '', 'embargoPeriod': {'start': '', 'end': '', 'isActive': False}, 'context': {'title': '', 'homepage': '', 'documentation': '', 'sourceCode': '', 'publisher': '', 'publisherLogo': '', 'contact': '', 'fundingAgency': '', 'fundingAgencyLogo': '', 'grantNo': ''}, 'spatial': {'location': {'address': '', '@id': '', 'latitude': '', 'longitude': ''}, 'extent': {'name': '', '@id': '', 'resolutionValue': '', 'resolutionUnit': '', 'boundingBox': [0, 0, 0, 0], 'crs': ''}}, 'temporal': {'referenceDate': '', 'timeseries': [{'start': '', 'end': '', 'resolutionValue': '', 'resolutionUnit': '', 'alignment': '', 'aggregationType': ''}]}, 'sources': [{'title': '', 'authors': [''], 'description': '', 'publicationYear': '', 'path': '', 'sourceLicenses': [{'name': '', 'title': '', 'path': '', 'instruction': '', 'attribution': '', 'copyrightStatement': ''}]}], 'licenses': [{'name': '', 'title': '', 'path': '', 'instruction': '', 'attribution': '', 'copyrightStatement': ''}], 'contributors': [{'title': '', 'path': '', 'organization': '', 'roles': [''], 'date': '', 'object': '', 'comment': ''}], 'type': '', 'format': '', 'encoding': '', 'schema': {'fields': [{'name': '', 'description': '', 'type': '', 'nullable': False, 'unit': '', 'isAbout': [{'name': '', '@id': ''}], 'valueReference': [{'value': '', 'name': '', '@id': ''}]}], 'primaryKey': [''], 'foreignKeys': [{'fields': [''], 'reference': {'resource': '', 'fields': ['']}}]}, 'dialect': {'delimiter': '', 'decimalSeparator': ''}, 'review': {'path': '', 'badge': ''}}], 'metaMetadata': {'metadataVersion': 'OEMetadata-2.0.1', 'metadataLicense': {'name': 'CC0-1.0', 'title': 'Creative Commons Zero v1.0 Universal', 'path': 'https://creativecommons.org/publicdomain/zero/1.0'}}, 'licenses': ['CC0-1.0'], 'keywords': ['foo', 'bar', 'baz']}\n"
     ]
    }
   ],
   "source": [
    "from oemetadata.latest.example import OEMETADATA_LATEST_EXAMPLE\n",
    "from oemetadata.latest.schema import OEMETADATA_LATEST_SCHEMA\n",
    "from oemetadata.latest.template import OEMETADATA_LATEST_TEMPLATE\n",
    "\n",
    "import yaml\n",
    "from jsonschema import ValidationError, validate\n",
    "\n",
    "print(OEMETADATA_LATEST_TEMPLATE)"
   ]
  },
  {
   "cell_type": "code",
   "execution_count": 6,
   "id": "05ea858e-2d68-4ceb-b56f-6592c4bf6538",
   "metadata": {},
   "outputs": [
    {
     "name": "stdout",
     "output_type": "stream",
     "text": [
      "{'metadata': {'name': 'foo-bar-baz', 'title': 'foo bar baz', 'licenses': ['CC0-1.0'], 'description': 'Foo Bar Baz', 'keywords': ['foo', 'bar', 'baz']}}\n"
     ]
    }
   ],
   "source": [
    "# Read YAML file\n",
    "with open(\"friendly_config.yml\", 'r') as stream:\n",
    "    config = yaml.safe_load(stream)\n",
    "\n",
    "print(config)"
   ]
  },
  {
   "cell_type": "code",
   "execution_count": 12,
   "id": "f45d2895-158f-46bd-a8bf-d79ffe791223",
   "metadata": {},
   "outputs": [
    {
     "data": {
      "text/plain": [
       "{'@context': '',\n",
       " 'name': 'foo-bar-baz',\n",
       " 'title': 'foo bar baz',\n",
       " 'description': 'Foo Bar Baz',\n",
       " 'id': '',\n",
       " 'resources': [{'@id': '',\n",
       "   'name': '',\n",
       "   'topics': [''],\n",
       "   'title': '',\n",
       "   'path': '',\n",
       "   'description': '',\n",
       "   'languages': [''],\n",
       "   'subject': [{'name': '', '@id': ''}],\n",
       "   'keywords': [''],\n",
       "   'publicationDate': '',\n",
       "   'embargoPeriod': {'start': '', 'end': '', 'isActive': False},\n",
       "   'context': {'title': '',\n",
       "    'homepage': '',\n",
       "    'documentation': '',\n",
       "    'sourceCode': '',\n",
       "    'publisher': '',\n",
       "    'publisherLogo': '',\n",
       "    'contact': '',\n",
       "    'fundingAgency': '',\n",
       "    'fundingAgencyLogo': '',\n",
       "    'grantNo': ''},\n",
       "   'spatial': {'location': {'address': '',\n",
       "     '@id': '',\n",
       "     'latitude': '',\n",
       "     'longitude': ''},\n",
       "    'extent': {'name': '',\n",
       "     '@id': '',\n",
       "     'resolutionValue': '',\n",
       "     'resolutionUnit': '',\n",
       "     'boundingBox': [0, 0, 0, 0],\n",
       "     'crs': ''}},\n",
       "   'temporal': {'referenceDate': '',\n",
       "    'timeseries': [{'start': '',\n",
       "      'end': '',\n",
       "      'resolutionValue': '',\n",
       "      'resolutionUnit': '',\n",
       "      'alignment': '',\n",
       "      'aggregationType': ''}]},\n",
       "   'sources': [{'title': '',\n",
       "     'authors': [''],\n",
       "     'description': '',\n",
       "     'publicationYear': '',\n",
       "     'path': '',\n",
       "     'sourceLicenses': [{'name': '',\n",
       "       'title': '',\n",
       "       'path': '',\n",
       "       'instruction': '',\n",
       "       'attribution': '',\n",
       "       'copyrightStatement': ''}]}],\n",
       "   'licenses': [{'name': '',\n",
       "     'title': '',\n",
       "     'path': '',\n",
       "     'instruction': '',\n",
       "     'attribution': '',\n",
       "     'copyrightStatement': ''}],\n",
       "   'contributors': [{'title': '',\n",
       "     'path': '',\n",
       "     'organization': '',\n",
       "     'roles': [''],\n",
       "     'date': '',\n",
       "     'object': '',\n",
       "     'comment': ''}],\n",
       "   'type': '',\n",
       "   'format': '',\n",
       "   'encoding': '',\n",
       "   'schema': {'fields': [{'name': '',\n",
       "      'description': '',\n",
       "      'type': '',\n",
       "      'nullable': False,\n",
       "      'unit': '',\n",
       "      'isAbout': [{'name': '', '@id': ''}],\n",
       "      'valueReference': [{'value': '', 'name': '', '@id': ''}]}],\n",
       "    'primaryKey': [''],\n",
       "    'foreignKeys': [{'fields': [''],\n",
       "      'reference': {'resource': '', 'fields': ['']}}]},\n",
       "   'dialect': {'delimiter': '', 'decimalSeparator': ''},\n",
       "   'review': {'path': '', 'badge': ''}}],\n",
       " 'metaMetadata': {'metadataVersion': 'OEMetadata-2.0.1',\n",
       "  'metadataLicense': {'name': 'CC0-1.0',\n",
       "   'title': 'Creative Commons Zero v1.0 Universal',\n",
       "   'path': 'https://creativecommons.org/publicdomain/zero/1.0'}},\n",
       " 'licenses': ['CC0-1.0'],\n",
       " 'keywords': ['foo', 'bar', 'baz']}"
      ]
     },
     "execution_count": 12,
     "metadata": {},
     "output_type": "execute_result"
    }
   ],
   "source": [
    "new_pkg = OEMETADATA_LATEST_TEMPLATE\n",
    "\n",
    "new_pkg['name'] = config['metadata']['name']\n",
    "new_pkg['title'] = config['metadata']['title']\n",
    "new_pkg['licenses'] = config['metadata']['licenses']\n",
    "new_pkg['description'] = config['metadata']['description']\n",
    "new_pkg['keywords'] = config['metadata']['keywords']\n",
    "\n",
    "new_pkg"
   ]
  },
  {
   "cell_type": "code",
   "execution_count": 15,
   "id": "1d6f8488-cc13-4795-9d58-bbc7f363b130",
   "metadata": {},
   "outputs": [
    {
     "name": "stdout",
     "output_type": "stream",
     "text": [
      "Build package is valid OEMetadata Schema (Latest).\n"
     ]
    }
   ],
   "source": [
    "# Validate schema\n",
    "\n",
    "try:\n",
    "    validate(new_pkg, OEMETADATA_LATEST_SCHEMA)\n",
    "    print(\"Built package is valid OEMetadata Schema (Latest).\")\n",
    "except ValidationError as e:\n",
    "    print(\"Cannot validate the built OEMetadata Example with Schema (Latest)!\", e)"
   ]
  },
  {
   "cell_type": "code",
   "execution_count": 17,
   "id": "09c18a41-ab4d-409a-a471-d94acb2ee46e",
   "metadata": {},
   "outputs": [
    {
     "name": "stdout",
     "output_type": "stream",
     "text": [
      "Cannot validate the built OEMetadata Example with Schema (Latest)! False is not of type 'string', 'null'\n",
      "\n",
      "Failed validating 'type' in schema['properties']['resources']['items']['properties']['title']:\n",
      "    {'description': 'A human readable resource or table name.',\n",
      "     'type': ['string', 'null'],\n",
      "     'examples': ['OEMetadata Table Template'],\n",
      "     'badge': 'Silver',\n",
      "     'title': 'Title'}\n",
      "\n",
      "On instance['resources'][0]['title']:\n",
      "    False\n"
     ]
    }
   ],
   "source": [
    "# Try to break it\n",
    "\n",
    "new_pkg['resources'][0]['title'] = False\n",
    "\n",
    "try:\n",
    "    validate(new_pkg, OEMETADATA_LATEST_SCHEMA)\n",
    "    print(\"Built package is valid OEMetadata Schema (Latest).\")\n",
    "except ValidationError as e:\n",
    "    print(\"Cannot validate the built OEMetadata Example with Schema (Latest)!\", e)"
   ]
  },
  {
   "cell_type": "code",
   "execution_count": 26,
   "id": "fad1ed0c-446e-4793-803a-033dcf6353d4",
   "metadata": {},
   "outputs": [
    {
     "name": "stdout",
     "output_type": "stream",
     "text": [
      "Built package is valid OEMetadata Schema (Latest).\n"
     ]
    }
   ],
   "source": [
    "# Try again\n",
    "\n",
    "new_pkg['resources'][0]['title'] = None\n",
    "new_pkg['resources'][0]['spatial'].pop('location', None)\n",
    "new_pkg['resources'][0].pop('embargoPeriod', None)\n",
    "new_pkg['resources'][0]['contributors'] = [\n",
    "    {'path': 'https://github.com/acep-aedg/aedg-etl-2024',\n",
    "     'organization': 'Alaska Center for Energy and Power, University of Alaska Fairbanks',\n",
    "     'date': '2025-03-06',\n",
    "     'object': 'This or that table.',\n",
    "     'comment': 'Field names were changed.'}\n",
    "]\n",
    "\n",
    "try:\n",
    "    validate(new_pkg, OEMETADATA_LATEST_SCHEMA)\n",
    "    print(\"Built package is valid OEMetadata Schema (Latest).\")\n",
    "except ValidationError as e:\n",
    "    print(\"Cannot validate the built OEMetadata Example with Schema (Latest)!\", e)\n"
   ]
  },
  {
   "cell_type": "code",
   "execution_count": 27,
   "id": "3442c59b-6022-4f52-b2a1-23de81b63d25",
   "metadata": {},
   "outputs": [
    {
     "data": {
      "text/plain": [
       "{'@context': '',\n",
       " 'name': 'foo-bar-baz',\n",
       " 'title': 'foo bar baz',\n",
       " 'description': 'Foo Bar Baz',\n",
       " 'id': '',\n",
       " 'resources': [{'@id': '',\n",
       "   'name': '',\n",
       "   'topics': [''],\n",
       "   'title': None,\n",
       "   'path': '',\n",
       "   'description': '',\n",
       "   'languages': [''],\n",
       "   'subject': [{'name': '', '@id': ''}],\n",
       "   'keywords': [''],\n",
       "   'publicationDate': '',\n",
       "   'context': {'title': '',\n",
       "    'homepage': '',\n",
       "    'documentation': '',\n",
       "    'sourceCode': '',\n",
       "    'publisher': '',\n",
       "    'publisherLogo': '',\n",
       "    'contact': '',\n",
       "    'fundingAgency': '',\n",
       "    'fundingAgencyLogo': '',\n",
       "    'grantNo': ''},\n",
       "   'spatial': {'extent': {'name': '',\n",
       "     '@id': '',\n",
       "     'resolutionValue': '',\n",
       "     'resolutionUnit': '',\n",
       "     'boundingBox': [0, 0, 0, 0],\n",
       "     'crs': ''}},\n",
       "   'temporal': {'referenceDate': '',\n",
       "    'timeseries': [{'start': '',\n",
       "      'end': '',\n",
       "      'resolutionValue': '',\n",
       "      'resolutionUnit': '',\n",
       "      'alignment': '',\n",
       "      'aggregationType': ''}]},\n",
       "   'sources': [{'title': '',\n",
       "     'authors': [''],\n",
       "     'description': '',\n",
       "     'publicationYear': '',\n",
       "     'path': '',\n",
       "     'sourceLicenses': [{'name': '',\n",
       "       'title': '',\n",
       "       'path': '',\n",
       "       'instruction': '',\n",
       "       'attribution': '',\n",
       "       'copyrightStatement': ''}]}],\n",
       "   'licenses': [{'name': '',\n",
       "     'title': '',\n",
       "     'path': '',\n",
       "     'instruction': '',\n",
       "     'attribution': '',\n",
       "     'copyrightStatement': ''}],\n",
       "   'contributors': [{'path': 'https://github.com/acep-aedg/aedg-etl-2024',\n",
       "     'organization': 'Alaska Center for Energy and Power, University of Alaska Fairbanks',\n",
       "     'date': '2025-03-06',\n",
       "     'object': 'This or that table.',\n",
       "     'comment': 'Field names were changed.'}],\n",
       "   'type': '',\n",
       "   'format': '',\n",
       "   'encoding': '',\n",
       "   'schema': {'fields': [{'name': '',\n",
       "      'description': '',\n",
       "      'type': '',\n",
       "      'nullable': False,\n",
       "      'unit': '',\n",
       "      'isAbout': [{'name': '', '@id': ''}],\n",
       "      'valueReference': [{'value': '', 'name': '', '@id': ''}]}],\n",
       "    'primaryKey': [''],\n",
       "    'foreignKeys': [{'fields': [''],\n",
       "      'reference': {'resource': '', 'fields': ['']}}]},\n",
       "   'dialect': {'delimiter': '', 'decimalSeparator': ''},\n",
       "   'review': {'path': '', 'badge': ''}}],\n",
       " 'metaMetadata': {'metadataVersion': 'OEMetadata-2.0.1',\n",
       "  'metadataLicense': {'name': 'CC0-1.0',\n",
       "   'title': 'Creative Commons Zero v1.0 Universal',\n",
       "   'path': 'https://creativecommons.org/publicdomain/zero/1.0'}},\n",
       " 'licenses': ['CC0-1.0'],\n",
       " 'keywords': ['foo', 'bar', 'baz']}"
      ]
     },
     "execution_count": 27,
     "metadata": {},
     "output_type": "execute_result"
    }
   ],
   "source": [
    "new_pkg"
   ]
  },
  {
   "cell_type": "code",
   "execution_count": null,
   "id": "bbaa15f4-62d4-4c01-9d2a-cf09e8d428b6",
   "metadata": {},
   "outputs": [],
   "source": []
  }
 ],
 "metadata": {
  "kernelspec": {
   "display_name": "Python 3 (ipykernel)",
   "language": "python",
   "name": "python3"
  },
  "language_info": {
   "codemirror_mode": {
    "name": "ipython",
    "version": 3
   },
   "file_extension": ".py",
   "mimetype": "text/x-python",
   "name": "python",
   "nbconvert_exporter": "python",
   "pygments_lexer": "ipython3",
   "version": "3.12.1"
  }
 },
 "nbformat": 4,
 "nbformat_minor": 5
}
