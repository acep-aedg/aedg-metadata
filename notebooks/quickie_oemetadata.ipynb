{
 "cells": [
  {
   "cell_type": "code",
   "execution_count": 1,
   "id": "831e9de5-ee21-4f7f-8eaa-2cf3f020d472",
   "metadata": {},
   "outputs": [
    {
     "name": "stdout",
     "output_type": "stream",
     "text": [
      "{'@context': '', 'name': '', 'title': '', 'description': '', 'id': '', 'resources': [{'@id': '', 'name': '', 'topics': [''], 'title': '', 'path': '', 'description': '', 'languages': [''], 'subject': [{'name': '', '@id': ''}], 'keywords': [''], 'publicationDate': '', 'embargoPeriod': {'start': '', 'end': '', 'isActive': False}, 'context': {'title': '', 'homepage': '', 'documentation': '', 'sourceCode': '', 'publisher': '', 'publisherLogo': '', 'contact': '', 'fundingAgency': '', 'fundingAgencyLogo': '', 'grantNo': ''}, 'spatial': {'location': {'address': '', '@id': '', 'latitude': '', 'longitude': ''}, 'extent': {'name': '', '@id': '', 'resolutionValue': '', 'resolutionUnit': '', 'boundingBox': [0, 0, 0, 0], 'crs': ''}}, 'temporal': {'referenceDate': '', 'timeseries': [{'start': '', 'end': '', 'resolutionValue': '', 'resolutionUnit': '', 'alignment': '', 'aggregationType': ''}]}, 'sources': [{'title': '', 'authors': [''], 'description': '', 'publicationYear': '', 'path': '', 'sourceLicenses': [{'name': '', 'title': '', 'path': '', 'instruction': '', 'attribution': '', 'copyrightStatement': ''}]}], 'licenses': [{'name': '', 'title': '', 'path': '', 'instruction': '', 'attribution': '', 'copyrightStatement': ''}], 'contributors': [{'title': '', 'path': '', 'organization': '', 'roles': [''], 'date': '', 'object': '', 'comment': ''}], 'type': '', 'format': '', 'encoding': '', 'schema': {'fields': [{'name': '', 'description': '', 'type': '', 'nullable': False, 'unit': '', 'isAbout': [{'name': '', '@id': ''}], 'valueReference': [{'value': '', 'name': '', '@id': ''}]}], 'primaryKey': [''], 'foreignKeys': [{'fields': [''], 'reference': {'resource': '', 'fields': ['']}}]}, 'dialect': {'delimiter': '', 'decimalSeparator': ''}, 'review': {'path': '', 'badge': ''}}], 'metaMetadata': {'metadataVersion': 'OEMetadata-2.0.1', 'metadataLicense': {'name': 'CC0-1.0', 'title': 'Creative Commons Zero v1.0 Universal', 'path': 'https://creativecommons.org/publicdomain/zero/1.0'}}}\n",
      "Metadata is valid according to OEMetadata Schema (Latest).\n"
     ]
    }
   ],
   "source": [
    "from oemetadata.latest.example import OEMETADATA_LATEST_EXAMPLE\n",
    "from oemetadata.latest.schema import OEMETADATA_LATEST_SCHEMA\n",
    "from oemetadata.latest.template import OEMETADATA_LATEST_TEMPLATE\n",
    "\n",
    "import yaml\n",
    "from jsonschema import ValidationError, validate\n",
    "import json\n",
    "from datetime import date\n",
    "from pprint import pprint\n",
    "\n",
    "print(OEMETADATA_LATEST_TEMPLATE)\n",
    "\n",
    "def check_schema(package):\n",
    "    try:\n",
    "        validate(package, OEMETADATA_LATEST_SCHEMA)\n",
    "        print(\"Metadata is valid according to OEMetadata Schema (Latest).\")\n",
    "    except ValidationError as e:\n",
    "        print(\"Cannot validate the metadata according to OEMetadata Schema (Latest)!\", e)\n",
    "\n",
    "check_schema(OEMETADATA_LATEST_TEMPLATE)\n",
    "\n",
    "config_file = \"../config/public/public_communities_monthly_generation.yml\"\n",
    "metadata_file = \"../metadata/public/public_communities_monthly_generation.json\"\n"
   ]
  },
  {
   "cell_type": "code",
   "execution_count": 2,
   "id": "05ea858e-2d68-4ceb-b56f-6592c4bf6538",
   "metadata": {},
   "outputs": [
    {
     "name": "stdout",
     "output_type": "stream",
     "text": [
      "{'licenses': {'CC0-1.0': {'path': 'https://creativecommons.org/publicdomain/zero/1.0/', 'title': 'CC0 1.0 Universal'}, 'ODbL-1.0': {'title': 'Open Data Commons Open Database License 1.0', 'path': 'https://opendatacommons.org/licenses/odbl/1-0/index.html', 'instruction': 'You are free to share and change, but you must attribute, and share derivations under the same license. See https://tldrlegal.com/license/odc-open-database-license-(odbl) for further information.', 'attribution': 'ACEP', 'copyrightStatement': 'https://github.com/OpenEnergyPlatform/oemetadata/blob/production/LICENSE.txt'}}}\n"
     ]
    }
   ],
   "source": [
    "# Read YAML files\n",
    "with open(config_file, 'r') as stream:\n",
    "    config = yaml.safe_load(stream)\n",
    "\n",
    "with open(\"../registry/fields.yml\", 'r') as stream:\n",
    "    fields = yaml.safe_load(stream)\n",
    "\n",
    "with open(\"../registry/licenses.yml\", 'r') as stream:\n",
    "    licenses = yaml.safe_load(stream)\n",
    "\n",
    "with open(\"../registry/agents.yml\", 'r') as stream:\n",
    "    agents = yaml.safe_load(stream)\n",
    "print(licenses)"
   ]
  },
  {
   "cell_type": "code",
   "execution_count": 3,
   "id": "200accf6-d478-4b58-a7ea-8ed479170a5f",
   "metadata": {},
   "outputs": [
    {
     "name": "stdout",
     "output_type": "stream",
     "text": [
      "{'@context': '', 'name': '', 'title': '', 'description': '', 'id': '', 'resources': [{'@id': '', 'name': '', 'topics': [''], 'title': '', 'path': '', 'description': '', 'languages': ['en-US'], 'keywords': [''], 'publicationDate': '2025-03-07', 'context': {'title': 'Alaska Energy Data Gateway', 'homepage': 'https://akenergygateway.alaska.edu/', 'publisher': 'Alaska Center for Energy and Power, University of Alaska Fairbanks', 'fundingAgency': 'State of Alaska'}, 'spatial': {'extent': {'name': '', '@id': '', 'resolutionValue': '', 'resolutionUnit': '', 'boundingBox': [0, 0, 0, 0], 'crs': ''}}, 'temporal': {'referenceDate': '', 'timeseries': [{'start': '', 'end': '', 'resolutionValue': '', 'resolutionUnit': '', 'alignment': '', 'aggregationType': ''}]}, 'sources': [{'title': '', 'authors': [''], 'description': '', 'publicationYear': '', 'path': '', 'sourceLicenses': [{'name': '', 'title': '', 'path': '', 'instruction': '', 'attribution': '', 'copyrightStatement': ''}]}], 'licenses': [{'name': '', 'title': '', 'path': '', 'instruction': '', 'attribution': '', 'copyrightStatement': ''}], 'contributors': [{'path': 'https://github.com/acep-aedg/aedg-etl-2024', 'organization': 'Alaska Center for Energy and Power, University of Alaska Fairbanks', 'date': '2025-03-07', 'object': '[Fill in object of the change]', 'comment': '[Fill in how it was changed]'}], 'type': '', 'format': '', 'encoding': '', 'schema': {'fields': [{'name': '', 'description': '', 'type': '', 'nullable': False, 'unit': ''}], 'primaryKey': [''], 'foreignKeys': [{'fields': [''], 'reference': {'resource': '', 'fields': ['']}}]}, 'dialect': {'delimiter': ',', 'decimalSeparator': '.'}}], 'metaMetadata': {'metadataVersion': 'OEMetadata-2.0.1', 'metadataLicense': {'name': 'CC0-1.0', 'title': 'Creative Commons Zero v1.0 Universal', 'path': 'https://creativecommons.org/publicdomain/zero/1.0'}}}\n",
      "Metadata is valid according to OEMetadata Schema (Latest).\n"
     ]
    }
   ],
   "source": [
    "# Make some basic changes that will be true of all AEDG metadata\n",
    "new_pkg = OEMETADATA_LATEST_TEMPLATE.copy()\n",
    "\n",
    "# None are at a single spatial location\n",
    "new_pkg['resources'][0]['spatial'].pop('location', None)\n",
    "# None are embargoed\n",
    "new_pkg['resources'][0].pop('embargoPeriod', None)\n",
    "# everything is in US english\n",
    "new_pkg['resources'][0]['languages'] = ['en-US']\n",
    "# publishing today\n",
    "new_pkg['resources'][0]['publicationDate'] = f'{date.today()}'\n",
    "# we aren't using the OEMetadata review system\n",
    "new_pkg['resources'][0].pop('review', None)\n",
    "# CSV files will always be comma delimite\n",
    "new_pkg['resources'][0]['dialect']['delimiter'] = \",\"\n",
    "# We use \".\" in our floating point numbers\n",
    "new_pkg['resources'][0]['dialect']['decimalSeparator'] = \".\"\n",
    "# ACEP is a contributor to all (fill in details later)\n",
    "new_pkg['resources'][0]['contributors'] = [\n",
    "    {'path': 'https://github.com/acep-aedg/aedg-etl-2024',\n",
    "     'organization': 'Alaska Center for Energy and Power, University of Alaska Fairbanks',\n",
    "     'date': f'{date.today()}',\n",
    "     'object': '[Fill in object of the change]',\n",
    "     'comment': '[Fill in how it was changed]'}\n",
    "]\n",
    "# Context is AEDG\n",
    "new_pkg['resources'][0]['context'] = \\\n",
    "    {'title': 'Alaska Energy Data Gateway',\n",
    "     'homepage': 'https://akenergygateway.alaska.edu/',\n",
    "     'publisher': 'Alaska Center for Energy and Power, University of Alaska Fairbanks',\n",
    "     'fundingAgency': 'State of Alaska'}\n",
    "\n",
    "\n",
    "# One day we will do Ontology, but this is not the day :(\n",
    "new_pkg['resources'][0].pop('subject', None)\n",
    "new_pkg['resources'][0]['schema']['fields'][0].pop('isAbout', None)\n",
    "new_pkg['resources'][0]['schema']['fields'][0].pop('valueReference', None)\n",
    "\n",
    "\n",
    "print(new_pkg)\n",
    "check_schema(new_pkg)"
   ]
  },
  {
   "cell_type": "code",
   "execution_count": 4,
   "id": "f45d2895-158f-46bd-a8bf-d79ffe791223",
   "metadata": {},
   "outputs": [
    {
     "name": "stdout",
     "output_type": "stream",
     "text": [
      "{'@context': '', 'name': 'public_communities_monthly_generation', 'title': 'Monthly electrical generation by community', 'description': 'Monthly electrical generation is aggregated by grid and associated with every community connected to the grid.\\n', 'id': '', 'resources': [{'@id': '', 'name': 'public_communities_monthly_generation', 'topics': ['Electricity'], 'title': 'Monthly electrical generation by community', 'path': 'public_communities_monthly_generation.csv', 'description': 'Monthly electrical generation is aggregated by grid and associated with every community connected to the grid.\\n', 'languages': ['en-US'], 'keywords': ['generation', 'foo', 'bar'], 'publicationDate': '2025-03-07', 'context': {'title': 'Alaska Energy Data Gateway', 'homepage': 'https://akenergygateway.alaska.edu/', 'publisher': 'Alaska Center for Energy and Power, University of Alaska Fairbanks', 'fundingAgency': 'State of Alaska'}, 'spatial': {'extent': {'name': '', '@id': '', 'resolutionValue': '', 'resolutionUnit': '', 'boundingBox': [0, 0, 0, 0], 'crs': ''}}, 'temporal': {'referenceDate': '', 'timeseries': [{'start': '', 'end': '', 'resolutionValue': '', 'resolutionUnit': '', 'alignment': '', 'aggregationType': ''}]}, 'sources': [{'title': '', 'authors': [''], 'description': '', 'publicationYear': '', 'path': '', 'sourceLicenses': [{'name': '', 'title': '', 'path': '', 'instruction': '', 'attribution': '', 'copyrightStatement': ''}]}], 'licenses': [{'name': '', 'title': '', 'path': '', 'instruction': '', 'attribution': '', 'copyrightStatement': ''}], 'contributors': [{'path': 'https://github.com/acep-aedg/aedg-etl-2024', 'organization': 'Alaska Center for Energy and Power, University of Alaska Fairbanks', 'date': '2025-03-07', 'object': '[Fill in object of the change]', 'comment': '[Fill in how it was changed]'}], 'type': 'table', 'format': 'CSV', 'encoding': '', 'schema': {'fields': [{'name': '', 'description': '', 'type': '', 'nullable': False, 'unit': ''}], 'primaryKey': [''], 'foreignKeys': [{'fields': [''], 'reference': {'resource': '', 'fields': ['']}}]}, 'dialect': {'delimiter': ',', 'decimalSeparator': '.'}}], 'metaMetadata': {'metadataVersion': 'OEMetadata-2.0.1', 'metadataLicense': {'name': 'CC0-1.0', 'title': 'Creative Commons Zero v1.0 Universal', 'path': 'https://creativecommons.org/publicdomain/zero/1.0'}}}\n",
      "Metadata is valid according to OEMetadata Schema (Latest).\n"
     ]
    }
   ],
   "source": [
    "# Now copy in configs specific to this file\n",
    "\n",
    "new_pkg['name'] = config['metadata']['name']\n",
    "new_pkg['title'] = config['metadata']['title']\n",
    "new_pkg['description'] = config['metadata']['description']\n",
    "\n",
    "# resource is same as the package, I guess\n",
    "new_pkg['resources'][0]['name'] = config['metadata']['name']\n",
    "new_pkg['resources'][0]['title'] = config['metadata']['title']\n",
    "new_pkg['resources'][0]['description'] = config['metadata']['description']\n",
    "new_pkg['resources'][0]['keywords'] = config['metadata']['keywords']\n",
    "new_pkg['resources'][0]['topics'] = config['metadata']['topics']\n",
    "new_pkg['resources'][0]['path'] = config['metadata']['path']\n",
    "if config['metadata']['path'].endswith(\".csv\"):\n",
    "    new_pkg['resources'][0]['type'] = \"table\"\n",
    "    new_pkg['resources'][0]['format'] = \"CSV\"\n",
    "if config['metadata']['path'].endswith(\".geojson\"):  # I don't know if OEMetadata does this\n",
    "    new_pkg['resources'][0]['type'] = \"geospatial\"\n",
    "    new_pkg['resources'][0]['format'] = \"GEOJOSN\"\n",
    "    \n",
    "print(new_pkg)\n",
    "check_schema(new_pkg)"
   ]
  },
  {
   "cell_type": "code",
   "execution_count": 5,
   "id": "1d6f8488-cc13-4795-9d58-bbc7f363b130",
   "metadata": {},
   "outputs": [
    {
     "name": "stdout",
     "output_type": "stream",
     "text": [
      "{'@context': '', 'name': 'public_communities_monthly_generation', 'title': 'Monthly electrical generation by community', 'description': 'Monthly electrical generation is aggregated by grid and associated with every community connected to the grid.\\n', 'id': '', 'resources': [{'@id': '', 'name': 'public_communities_monthly_generation', 'topics': ['Electricity'], 'title': 'Monthly electrical generation by community', 'path': 'public_communities_monthly_generation.csv', 'description': 'Monthly electrical generation is aggregated by grid and associated with every community connected to the grid.\\n', 'languages': ['en-US'], 'keywords': ['generation', 'foo', 'bar'], 'publicationDate': '2025-03-07', 'context': {'title': 'Alaska Energy Data Gateway', 'homepage': 'https://akenergygateway.alaska.edu/', 'publisher': 'Alaska Center for Energy and Power, University of Alaska Fairbanks', 'fundingAgency': 'State of Alaska'}, 'spatial': {'extent': {'name': '', '@id': '', 'resolutionValue': '', 'resolutionUnit': '', 'boundingBox': [0, 0, 0, 0], 'crs': ''}}, 'temporal': {'referenceDate': '', 'timeseries': [{'start': '', 'end': '', 'resolutionValue': '', 'resolutionUnit': '', 'alignment': '', 'aggregationType': ''}]}, 'sources': [{'title': '', 'authors': [''], 'description': '', 'publicationYear': '', 'path': '', 'sourceLicenses': [{'name': '', 'title': '', 'path': '', 'instruction': '', 'attribution': '', 'copyrightStatement': ''}]}], 'licenses': [{'name': 'CC0-1.0', 'path': 'https://creativecommons.org/publicdomain/zero/1.0/', 'title': 'CC0 1.0 Universal'}], 'contributors': [{'path': 'https://github.com/acep-aedg/aedg-etl-2024', 'organization': 'Alaska Center for Energy and Power, University of Alaska Fairbanks', 'date': '2025-03-07', 'object': '[Fill in object of the change]', 'comment': '[Fill in how it was changed]'}], 'type': 'table', 'format': 'CSV', 'encoding': '', 'schema': {'fields': [{'name': '', 'description': '', 'type': '', 'nullable': False, 'unit': ''}], 'primaryKey': [''], 'foreignKeys': [{'fields': [''], 'reference': {'resource': '', 'fields': ['']}}]}, 'dialect': {'delimiter': ',', 'decimalSeparator': '.'}}], 'metaMetadata': {'metadataVersion': 'OEMetadata-2.0.1', 'metadataLicense': {'name': 'CC0-1.0', 'title': 'Creative Commons Zero v1.0 Universal', 'path': 'https://creativecommons.org/publicdomain/zero/1.0'}}}\n",
      "Metadata is valid according to OEMetadata Schema (Latest).\n"
     ]
    }
   ],
   "source": [
    "# Add the license\n",
    "\n",
    "all_licenses = []\n",
    "for license_tag in config['metadata']['licenses']:\n",
    "    license = {'name': license_tag}\n",
    "    license.update(licenses['licenses'][license_tag])\n",
    "    all_licenses.append(license)\n",
    "    \n",
    "if len(all_licenses) > 0:\n",
    "    # replace the empty template field\n",
    "    new_pkg['resources'][0]['licenses'] = all_licenses\n",
    "else:\n",
    "    # remove the empty template field\n",
    "    new_pkg['resources'][0].pop('resources', None)\n",
    "\n",
    "print(new_pkg)\n",
    "check_schema(new_pkg)"
   ]
  },
  {
   "cell_type": "code",
   "execution_count": null,
   "id": "09c18a41-ab4d-409a-a471-d94acb2ee46e",
   "metadata": {},
   "outputs": [],
   "source": []
  },
  {
   "cell_type": "code",
   "execution_count": 6,
   "id": "3442c59b-6022-4f52-b2a1-23de81b63d25",
   "metadata": {},
   "outputs": [
    {
     "name": "stdout",
     "output_type": "stream",
     "text": [
      "{'@context': '',\n",
      " 'name': 'public_communities_monthly_generation',\n",
      " 'title': 'Monthly electrical generation by community',\n",
      " 'description': 'Monthly electrical generation is aggregated by grid and '\n",
      "                'associated with every community connected to the grid.\\n',\n",
      " 'id': '',\n",
      " 'resources': [{'@id': '',\n",
      "                'name': 'public_communities_monthly_generation',\n",
      "                'topics': ['Electricity'],\n",
      "                'title': 'Monthly electrical generation by community',\n",
      "                'path': 'public_communities_monthly_generation.csv',\n",
      "                'description': 'Monthly electrical generation is aggregated by '\n",
      "                               'grid and associated with every community '\n",
      "                               'connected to the grid.\\n',\n",
      "                'languages': ['en-US'],\n",
      "                'keywords': ['generation', 'foo', 'bar'],\n",
      "                'publicationDate': '2025-03-07',\n",
      "                'context': {'title': 'Alaska Energy Data Gateway',\n",
      "                            'homepage': 'https://akenergygateway.alaska.edu/',\n",
      "                            'publisher': 'Alaska Center for Energy and Power, '\n",
      "                                         'University of Alaska Fairbanks',\n",
      "                            'fundingAgency': 'State of Alaska'},\n",
      "                'spatial': {'extent': {'name': '',\n",
      "                                       '@id': '',\n",
      "                                       'resolutionValue': '',\n",
      "                                       'resolutionUnit': '',\n",
      "                                       'boundingBox': [0, 0, 0, 0],\n",
      "                                       'crs': ''}},\n",
      "                'temporal': {'referenceDate': '',\n",
      "                             'timeseries': [{'start': '',\n",
      "                                             'end': '',\n",
      "                                             'resolutionValue': '',\n",
      "                                             'resolutionUnit': '',\n",
      "                                             'alignment': '',\n",
      "                                             'aggregationType': ''}]},\n",
      "                'sources': [{'title': '',\n",
      "                             'authors': [''],\n",
      "                             'description': '',\n",
      "                             'publicationYear': '',\n",
      "                             'path': '',\n",
      "                             'sourceLicenses': [{'name': '',\n",
      "                                                 'title': '',\n",
      "                                                 'path': '',\n",
      "                                                 'instruction': '',\n",
      "                                                 'attribution': '',\n",
      "                                                 'copyrightStatement': ''}]}],\n",
      "                'licenses': [{'name': 'CC0-1.0',\n",
      "                              'path': 'https://creativecommons.org/publicdomain/zero/1.0/',\n",
      "                              'title': 'CC0 1.0 Universal'}],\n",
      "                'contributors': [{'path': 'https://github.com/acep-aedg/aedg-etl-2024',\n",
      "                                  'organization': 'Alaska Center for Energy '\n",
      "                                                  'and Power, University of '\n",
      "                                                  'Alaska Fairbanks',\n",
      "                                  'date': '2025-03-07',\n",
      "                                  'object': '[Fill in object of the change]',\n",
      "                                  'comment': '[Fill in how it was changed]'}],\n",
      "                'type': 'table',\n",
      "                'format': 'CSV',\n",
      "                'encoding': '',\n",
      "                'schema': {'fields': [{'name': '',\n",
      "                                       'description': '',\n",
      "                                       'type': '',\n",
      "                                       'nullable': False,\n",
      "                                       'unit': ''}],\n",
      "                           'primaryKey': [''],\n",
      "                           'foreignKeys': [{'fields': [''],\n",
      "                                            'reference': {'resource': '',\n",
      "                                                          'fields': ['']}}]},\n",
      "                'dialect': {'delimiter': ',', 'decimalSeparator': '.'}}],\n",
      " 'metaMetadata': {'metadataVersion': 'OEMetadata-2.0.1',\n",
      "                  'metadataLicense': {'name': 'CC0-1.0',\n",
      "                                      'title': 'Creative Commons Zero v1.0 '\n",
      "                                               'Universal',\n",
      "                                      'path': 'https://creativecommons.org/publicdomain/zero/1.0'}}}\n"
     ]
    }
   ],
   "source": [
    "pprint(new_pkg, depth=None, sort_dicts=False)"
   ]
  },
  {
   "cell_type": "code",
   "execution_count": 7,
   "id": "bbaa15f4-62d4-4c01-9d2a-cf09e8d428b6",
   "metadata": {},
   "outputs": [],
   "source": [
    "with open(metadata_file, \"w\") as file:\n",
    "    json.dump(new_pkg, file, indent=4)"
   ]
  },
  {
   "cell_type": "code",
   "execution_count": null,
   "id": "d6f7c1ab-e3d7-4560-afcb-fe75c2077713",
   "metadata": {},
   "outputs": [],
   "source": []
  }
 ],
 "metadata": {
  "kernelspec": {
   "display_name": "Python 3 (ipykernel)",
   "language": "python",
   "name": "python3"
  },
  "language_info": {
   "codemirror_mode": {
    "name": "ipython",
    "version": 3
   },
   "file_extension": ".py",
   "mimetype": "text/x-python",
   "name": "python",
   "nbconvert_exporter": "python",
   "pygments_lexer": "ipython3",
   "version": "3.12.1"
  }
 },
 "nbformat": 4,
 "nbformat_minor": 5
}
