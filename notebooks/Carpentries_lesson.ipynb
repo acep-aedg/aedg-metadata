{
 "cells": [
  {
   "cell_type": "code",
   "execution_count": 1,
   "id": "7263f474-5963-4251-bf0e-c8211a062ca8",
   "metadata": {},
   "outputs": [
    {
     "data": {
      "text/plain": [
       "'\\nCarpentries: Frictionless Data for Agriculture\\n\\nhttps://carpentries-incubator.github.io/frictionless-data-agriculture/03-frictionless-tables/index.html\\n\\n(markdown on Mac is not working)\\n'"
      ]
     },
     "execution_count": 1,
     "metadata": {},
     "output_type": "execute_result"
    }
   ],
   "source": [
    "\"\"\"\n",
    "Carpentries: Frictionless Data for Agriculture\n",
    "\n",
    "https://carpentries-incubator.github.io/frictionless-data-agriculture/03-frictionless-tables/index.html\n",
    "\n",
    "(markdown on Mac is not working)\n",
    "\"\"\""
   ]
  },
  {
   "cell_type": "code",
   "execution_count": 2,
   "id": "5d3408d4-b042-4519-994f-e689683507aa",
   "metadata": {},
   "outputs": [],
   "source": [
    "from frictionless import describe, validate, Package\n",
    "import pprint\n",
    "\n",
    "pp = pprint.PrettyPrinter(depth=4)\n",
    "\n",
    "csvname = \"./capacity.csv\""
   ]
  },
  {
   "cell_type": "code",
   "execution_count": 3,
   "id": "a685eafd-5c9d-474c-adb0-19efcc92ceff",
   "metadata": {},
   "outputs": [
    {
     "name": "stdout",
     "output_type": "stream",
     "text": [
      "{'name': 'capacity',\n",
      " 'type': 'table',\n",
      " 'path': './capacity.csv',\n",
      " 'scheme': 'file',\n",
      " 'format': 'csv',\n",
      " 'mediatype': 'text/csv',\n",
      " 'encoding': 'utf-8',\n",
      " 'schema': {'fields': [{'name': 'grid_id', 'type': 'integer'},\n",
      "                       {'name': 'capacity_mw', 'type': 'number'},\n",
      "                       {'name': 'fuel_type', 'type': 'string'},\n",
      "                       {'name': 'year', 'type': 'integer'}]}}\n"
     ]
    }
   ],
   "source": [
    "capacity_schema = describe(csvname)\n",
    "pp.pprint(capacity_schema)"
   ]
  },
  {
   "cell_type": "code",
   "execution_count": 4,
   "id": "44c0b30f-6b58-49f7-8dfc-0e48472f508a",
   "metadata": {},
   "outputs": [
    {
     "name": "stdout",
     "output_type": "stream",
     "text": [
      "{'name': 'capacity',\n",
      " 'type': 'table',\n",
      " 'description': 'Annual capacity for a grid in Alaska',\n",
      " 'path': './capacity.csv',\n",
      " 'scheme': 'file',\n",
      " 'format': 'csv',\n",
      " 'mediatype': 'text/csv',\n",
      " 'encoding': 'utf-8',\n",
      " 'schema': {'fields': [{'name': 'grid_id',\n",
      "                        'type': 'integer',\n",
      "                        'title': 'Grid ID',\n",
      "                        'description': 'A unique identifier for the grid for '\n",
      "                                       'which capacity is calculated'},\n",
      "                       {'name': 'capacity_mw',\n",
      "                        'type': 'number',\n",
      "                        'title': 'Generation Capacity',\n",
      "                        'description': 'The maximum amount of electricity that '\n",
      "                                       'can be generated at any given time in '\n",
      "                                       'megawatts (MW)'},\n",
      "                       {'name': 'fuel_type',\n",
      "                        'type': 'string',\n",
      "                        'title': 'Fuel Type',\n",
      "                        'description': 'Type of fuel used for generation'},\n",
      "                       {'name': 'year',\n",
      "                        'type': 'year',\n",
      "                        'title': 'Year',\n",
      "                        'description': 'Year for which capacity is calculated',\n",
      "                        'constraints': {'minimum': 2010, 'maximum': 2025}}]}}\n"
     ]
    }
   ],
   "source": [
    "capacity_schema.description = \"Annual capacity for a grid in Alaska\"\n",
    "\n",
    "capacity_schema.schema.get_field(\"grid_id\").title = \"Grid ID\"\n",
    "capacity_schema.schema.get_field(\"grid_id\").description = \"A unique identifier for the grid for which capacity is calculated\"\n",
    "\n",
    "capacity_schema.schema.get_field(\"capacity_mw\").title = \"Generation Capacity\"\n",
    "capacity_schema.schema.get_field(\"capacity_mw\").description = \"The maximum amount of electricity that can be generated at any given time in megawatts (MW)\"\n",
    "# Note: I can try and add a new field but it doesn't stick\n",
    "capacity_schema.schema.get_field(\"capacity_mw\").units = \"Megawatts\"\n",
    "\n",
    "capacity_schema.schema.get_field(\"fuel_type\").title = \"Fuel Type\"\n",
    "capacity_schema.schema.get_field(\"fuel_type\").description = \"Type of fuel used for generation\"\n",
    "\n",
    "capacity_schema.schema.get_field(\"year\").title = \"Year\"\n",
    "capacity_schema.schema.get_field(\"year\").description = \"Year for which capacity is calculated\"\n",
    "capacity_schema.schema.set_field_type(\"year\", \"year\")\n",
    "capacity_schema.schema.get_field(\"year\").constraints[\"minimum\"] = 2010\n",
    "capacity_schema.schema.get_field(\"year\").constraints[\"maximum\"] = 2025\n",
    "\n",
    "pp.pprint(capacity_schema)\n"
   ]
  },
  {
   "cell_type": "code",
   "execution_count": 5,
   "id": "649db29c-ed7c-4273-8399-53c026a99b96",
   "metadata": {},
   "outputs": [
    {
     "name": "stdout",
     "output_type": "stream",
     "text": [
      "{'name': 'capacity',\n",
      " 'type': 'table',\n",
      " 'description': 'Annual capacity for a grid in Alaska',\n",
      " 'path': './capacity.csv',\n",
      " 'scheme': 'file',\n",
      " 'format': 'csv',\n",
      " 'mediatype': 'text/csv',\n",
      " 'encoding': 'utf-8',\n",
      " 'schema': {'fields': [{'name': 'grid_id',\n",
      "                        'type': 'integer',\n",
      "                        'title': 'Grid ID',\n",
      "                        'description': 'A unique identifier for the grid for '\n",
      "                                       'which capacity is calculated'},\n",
      "                       {'name': 'capacity_mw',\n",
      "                        'type': 'number',\n",
      "                        'title': 'Generation Capacity',\n",
      "                        'description': 'The maximum amount of electricity that '\n",
      "                                       'can be generated at any given time in '\n",
      "                                       'megawatts (MW)'},\n",
      "                       {'name': 'fuel_type',\n",
      "                        'type': 'string',\n",
      "                        'title': 'Fuel Type',\n",
      "                        'description': 'Type of fuel used for generation'},\n",
      "                       {'name': 'year',\n",
      "                        'type': 'year',\n",
      "                        'title': 'Year',\n",
      "                        'description': 'Year for which capacity is calculated',\n",
      "                        'constraints': {'minimum': 2010, 'maximum': 2025}}],\n",
      "            'foreignKeys': [{'fields': ['grid_id'],\n",
      "                             'reference': {'resource': 'grids',\n",
      "                                           'fields': ['grid_id']}}]}}\n"
     ]
    }
   ],
   "source": [
    "f_keys = []\n",
    "f_keys.append({\n",
    "  \"fields\": [\"grid_id\"],\n",
    "  \"reference\": {\n",
    "      \"resource\": \"grids\",        \n",
    "      \"fields\": [\"grid_id\"]\n",
    "  }            \n",
    "})\n",
    "\n",
    "capacity_schema.schema.foreign_keys = f_keys\n",
    "\n",
    "pp.pprint(capacity_schema)"
   ]
  },
  {
   "cell_type": "code",
   "execution_count": 6,
   "id": "450418a6-19de-4617-83a3-82def29c44c9",
   "metadata": {},
   "outputs": [
    {
     "data": {
      "text/plain": [
       "{'valid': True,\n",
       " 'stats': {'tasks': 1, 'errors': 0, 'warnings': 0, 'seconds': 0.006},\n",
       " 'warnings': [],\n",
       " 'errors': [],\n",
       " 'tasks': [{'name': 'capacity',\n",
       "            'type': 'table',\n",
       "            'valid': True,\n",
       "            'place': './capacity.csv',\n",
       "            'labels': ['grid_id', 'capacity_mw', 'fuel_type', 'year'],\n",
       "            'stats': {'errors': 0,\n",
       "                      'warnings': 0,\n",
       "                      'seconds': 0.006,\n",
       "                      'md5': 'cd51cd1ad519075f702c958ff5bad12d',\n",
       "                      'sha256': '1f151eca80760575509dfb006652d365c9a83c18276a3be5e525cb8768edba3c',\n",
       "                      'bytes': 7561,\n",
       "                      'fields': 4,\n",
       "                      'rows': 492},\n",
       "            'warnings': [],\n",
       "            'errors': []}]}"
      ]
     },
     "execution_count": 6,
     "metadata": {},
     "output_type": "execute_result"
    }
   ],
   "source": [
    "\"\"\"report = validate('table.csv', schema='schema.json')\n",
    "print(report)\"\"\"\n",
    "\n",
    "capacity_schema.validate()"
   ]
  },
  {
   "cell_type": "code",
   "execution_count": 7,
   "id": "debb65a9-f735-452b-9b46-b15ca82a9879",
   "metadata": {},
   "outputs": [
    {
     "data": {
      "text/plain": [
       "'{\\n  \"name\": \"capacity\",\\n  \"type\": \"table\",\\n  \"description\": \"Annual capacity for a grid in Alaska\",\\n  \"path\": \"./capacity.csv\",\\n  \"scheme\": \"file\",\\n  \"format\": \"csv\",\\n  \"mediatype\": \"text/csv\",\\n  \"encoding\": \"utf-8\",\\n  \"schema\": {\\n    \"fields\": [\\n      {\\n        \"name\": \"grid_id\",\\n        \"type\": \"integer\",\\n        \"title\": \"Grid ID\",\\n        \"description\": \"A unique identifier for the grid for which capacity is calculated\"\\n      },\\n      {\\n        \"name\": \"capacity_mw\",\\n        \"type\": \"number\",\\n        \"title\": \"Generation Capacity\",\\n        \"description\": \"The maximum amount of electricity that can be generated at any given time in megawatts (MW)\"\\n      },\\n      {\\n        \"name\": \"fuel_type\",\\n        \"type\": \"string\",\\n        \"title\": \"Fuel Type\",\\n        \"description\": \"Type of fuel used for generation\"\\n      },\\n      {\\n        \"name\": \"year\",\\n        \"type\": \"year\",\\n        \"title\": \"Year\",\\n        \"description\": \"Year for which capacity is calculated\",\\n        \"constraints\": {\\n          \"minimum\": 2010,\\n          \"maximum\": 2025\\n        }\\n      }\\n    ],\\n    \"foreignKeys\": [\\n      {\\n        \"fields\": [\\n          \"grid_id\"\\n        ],\\n        \"reference\": {\\n          \"resource\": \"grids\",\\n          \"fields\": [\\n            \"grid_id\"\\n          ]\\n        }\\n      }\\n    ]\\n  }\\n}'"
      ]
     },
     "execution_count": 7,
     "metadata": {},
     "output_type": "execute_result"
    }
   ],
   "source": [
    "capacity_schema.to_json('test_schema.json')"
   ]
  }
 ],
 "metadata": {
  "kernelspec": {
   "display_name": "Python 3 (ipykernel)",
   "language": "python",
   "name": "python3"
  },
  "language_info": {
   "codemirror_mode": {
    "name": "ipython",
    "version": 3
   },
   "file_extension": ".py",
   "mimetype": "text/x-python",
   "name": "python",
   "nbconvert_exporter": "python",
   "pygments_lexer": "ipython3",
   "version": "3.12.1"
  }
 },
 "nbformat": 4,
 "nbformat_minor": 5
}
